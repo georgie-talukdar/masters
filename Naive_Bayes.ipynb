{
  "nbformat": 4,
  "nbformat_minor": 0,
  "metadata": {
    "colab": {
      "provenance": [],
      "include_colab_link": true
    },
    "kernelspec": {
      "name": "python3",
      "display_name": "Python 3"
    },
    "language_info": {
      "name": "python"
    },
    "accelerator": "GPU",
    "gpuClass": "standard"
  },
  "cells": [
    {
      "cell_type": "markdown",
      "metadata": {
        "id": "view-in-github",
        "colab_type": "text"
      },
      "source": [
        "<a href=\"https://colab.research.google.com/github/georgie-talukdar/masters/blob/main/Naive_Bayes.ipynb\" target=\"_parent\"><img src=\"https://colab.research.google.com/assets/colab-badge.svg\" alt=\"Open In Colab\"/></a>"
      ]
    },
    {
      "cell_type": "markdown",
      "source": [
        "# Practical 13a: Naive Bayes Classifier\n",
        "\n",
        "In this part of the practical you're going to develop a SPAM detection Machine Learning tool similar to the one discussed in the lectures. We will use a Naive Bayes classifier to separate ham from spam. Where ham is a message you want to recieve whilst spam is a message you don't want to recieve."
      ],
      "metadata": {
        "id": "2ECCmHn7quZ_"
      }
    },
    {
      "cell_type": "markdown",
      "source": [
        "First let's set up some libraries we're going to use."
      ],
      "metadata": {
        "id": "SNy7zOG9sRFQ"
      }
    },
    {
      "cell_type": "code",
      "source": [
        "import pandas as pd\n",
        "from sklearn.model_selection import train_test_split\n",
        "from sklearn.feature_extraction.text import CountVectorizer\n",
        "from sklearn.naive_bayes import MultinomialNB\n",
        "from sklearn.metrics import accuracy_score\n",
        "from sklearn.metrics._plot.confusion_matrix import confusion_matrix"
      ],
      "metadata": {
        "id": "-8MBe5vvsXcX"
      },
      "execution_count": 53,
      "outputs": []
    },
    {
      "cell_type": "markdown",
      "source": [
        "## The data\n",
        "\n",
        "We're going to use a SMS (text message) dataset for this exercise.\n",
        "\n",
        "The data is a variant of the data from the Kaggle dataset (https://www.kaggle.com/datasets/uciml/sms-spam-collection-dataset). It has been cleaned up to make it usable here. Please use the copy from http://homepages.cs.ncl.ac.uk/stephen.mcgough/data/spam.csv. "
      ],
      "metadata": {
        "id": "9xix_cuLs4tk"
      }
    },
    {
      "cell_type": "code",
      "execution_count": 54,
      "metadata": {
        "id": "9ys3CTYi0prt"
      },
      "outputs": [],
      "source": [
        "spam = pd.read_csv('http://homepages.cs.ncl.ac.uk/stephen.mcgough/data/spam.csv', encoding='ISO-8859-1')"
      ]
    },
    {
      "cell_type": "markdown",
      "source": [
        "Let's take a quick look at the data. Each row contains a class label (either ham or spam) followed by the text from the SMS message."
      ],
      "metadata": {
        "id": "4vtaKNSCtvb1"
      }
    },
    {
      "cell_type": "code",
      "source": [
        "spam"
      ],
      "metadata": {
        "id": "VK8ppOZ9KeLK",
        "colab": {
          "base_uri": "https://localhost:8080/",
          "height": 424
        },
        "outputId": "81ddfac1-c160-4c07-9b46-67d1dcc6bb6d"
      },
      "execution_count": 55,
      "outputs": [
        {
          "output_type": "execute_result",
          "data": {
            "text/plain": [
              "     class                                               text\n",
              "0      ham  Go until jurong point. crazy.. Available only ...\n",
              "1      ham                      Ok lar... Joking wif u oni...\n",
              "2     spam  Free entry in 2 a wkly comp to win FA Cup fina...\n",
              "3      ham  U dun say so early hor... U c already then say...\n",
              "4      ham  Nah I don't think he goes to usf. he lives aro...\n",
              "...    ...                                                ...\n",
              "5567  spam  This is the 2nd time we have tried 2 contact u...\n",
              "5568   ham               Will _ b going to esplanade fr home?\n",
              "5569   ham  Pity. * was in mood for that. So...any other s...\n",
              "5570   ham  The guy did some bitching but I acted like i'd...\n",
              "5571   ham                         Rofl. Its true to its name\n",
              "\n",
              "[5572 rows x 2 columns]"
            ],
            "text/html": [
              "\n",
              "  <div id=\"df-3593aee5-48f8-4a4e-ade3-84ab3de1449b\">\n",
              "    <div class=\"colab-df-container\">\n",
              "      <div>\n",
              "<style scoped>\n",
              "    .dataframe tbody tr th:only-of-type {\n",
              "        vertical-align: middle;\n",
              "    }\n",
              "\n",
              "    .dataframe tbody tr th {\n",
              "        vertical-align: top;\n",
              "    }\n",
              "\n",
              "    .dataframe thead th {\n",
              "        text-align: right;\n",
              "    }\n",
              "</style>\n",
              "<table border=\"1\" class=\"dataframe\">\n",
              "  <thead>\n",
              "    <tr style=\"text-align: right;\">\n",
              "      <th></th>\n",
              "      <th>class</th>\n",
              "      <th>text</th>\n",
              "    </tr>\n",
              "  </thead>\n",
              "  <tbody>\n",
              "    <tr>\n",
              "      <th>0</th>\n",
              "      <td>ham</td>\n",
              "      <td>Go until jurong point. crazy.. Available only ...</td>\n",
              "    </tr>\n",
              "    <tr>\n",
              "      <th>1</th>\n",
              "      <td>ham</td>\n",
              "      <td>Ok lar... Joking wif u oni...</td>\n",
              "    </tr>\n",
              "    <tr>\n",
              "      <th>2</th>\n",
              "      <td>spam</td>\n",
              "      <td>Free entry in 2 a wkly comp to win FA Cup fina...</td>\n",
              "    </tr>\n",
              "    <tr>\n",
              "      <th>3</th>\n",
              "      <td>ham</td>\n",
              "      <td>U dun say so early hor... U c already then say...</td>\n",
              "    </tr>\n",
              "    <tr>\n",
              "      <th>4</th>\n",
              "      <td>ham</td>\n",
              "      <td>Nah I don't think he goes to usf. he lives aro...</td>\n",
              "    </tr>\n",
              "    <tr>\n",
              "      <th>...</th>\n",
              "      <td>...</td>\n",
              "      <td>...</td>\n",
              "    </tr>\n",
              "    <tr>\n",
              "      <th>5567</th>\n",
              "      <td>spam</td>\n",
              "      <td>This is the 2nd time we have tried 2 contact u...</td>\n",
              "    </tr>\n",
              "    <tr>\n",
              "      <th>5568</th>\n",
              "      <td>ham</td>\n",
              "      <td>Will _ b going to esplanade fr home?</td>\n",
              "    </tr>\n",
              "    <tr>\n",
              "      <th>5569</th>\n",
              "      <td>ham</td>\n",
              "      <td>Pity. * was in mood for that. So...any other s...</td>\n",
              "    </tr>\n",
              "    <tr>\n",
              "      <th>5570</th>\n",
              "      <td>ham</td>\n",
              "      <td>The guy did some bitching but I acted like i'd...</td>\n",
              "    </tr>\n",
              "    <tr>\n",
              "      <th>5571</th>\n",
              "      <td>ham</td>\n",
              "      <td>Rofl. Its true to its name</td>\n",
              "    </tr>\n",
              "  </tbody>\n",
              "</table>\n",
              "<p>5572 rows × 2 columns</p>\n",
              "</div>\n",
              "      <button class=\"colab-df-convert\" onclick=\"convertToInteractive('df-3593aee5-48f8-4a4e-ade3-84ab3de1449b')\"\n",
              "              title=\"Convert this dataframe to an interactive table.\"\n",
              "              style=\"display:none;\">\n",
              "        \n",
              "  <svg xmlns=\"http://www.w3.org/2000/svg\" height=\"24px\"viewBox=\"0 0 24 24\"\n",
              "       width=\"24px\">\n",
              "    <path d=\"M0 0h24v24H0V0z\" fill=\"none\"/>\n",
              "    <path d=\"M18.56 5.44l.94 2.06.94-2.06 2.06-.94-2.06-.94-.94-2.06-.94 2.06-2.06.94zm-11 1L8.5 8.5l.94-2.06 2.06-.94-2.06-.94L8.5 2.5l-.94 2.06-2.06.94zm10 10l.94 2.06.94-2.06 2.06-.94-2.06-.94-.94-2.06-.94 2.06-2.06.94z\"/><path d=\"M17.41 7.96l-1.37-1.37c-.4-.4-.92-.59-1.43-.59-.52 0-1.04.2-1.43.59L10.3 9.45l-7.72 7.72c-.78.78-.78 2.05 0 2.83L4 21.41c.39.39.9.59 1.41.59.51 0 1.02-.2 1.41-.59l7.78-7.78 2.81-2.81c.8-.78.8-2.07 0-2.86zM5.41 20L4 18.59l7.72-7.72 1.47 1.35L5.41 20z\"/>\n",
              "  </svg>\n",
              "      </button>\n",
              "      \n",
              "  <style>\n",
              "    .colab-df-container {\n",
              "      display:flex;\n",
              "      flex-wrap:wrap;\n",
              "      gap: 12px;\n",
              "    }\n",
              "\n",
              "    .colab-df-convert {\n",
              "      background-color: #E8F0FE;\n",
              "      border: none;\n",
              "      border-radius: 50%;\n",
              "      cursor: pointer;\n",
              "      display: none;\n",
              "      fill: #1967D2;\n",
              "      height: 32px;\n",
              "      padding: 0 0 0 0;\n",
              "      width: 32px;\n",
              "    }\n",
              "\n",
              "    .colab-df-convert:hover {\n",
              "      background-color: #E2EBFA;\n",
              "      box-shadow: 0px 1px 2px rgba(60, 64, 67, 0.3), 0px 1px 3px 1px rgba(60, 64, 67, 0.15);\n",
              "      fill: #174EA6;\n",
              "    }\n",
              "\n",
              "    [theme=dark] .colab-df-convert {\n",
              "      background-color: #3B4455;\n",
              "      fill: #D2E3FC;\n",
              "    }\n",
              "\n",
              "    [theme=dark] .colab-df-convert:hover {\n",
              "      background-color: #434B5C;\n",
              "      box-shadow: 0px 1px 3px 1px rgba(0, 0, 0, 0.15);\n",
              "      filter: drop-shadow(0px 1px 2px rgba(0, 0, 0, 0.3));\n",
              "      fill: #FFFFFF;\n",
              "    }\n",
              "  </style>\n",
              "\n",
              "      <script>\n",
              "        const buttonEl =\n",
              "          document.querySelector('#df-3593aee5-48f8-4a4e-ade3-84ab3de1449b button.colab-df-convert');\n",
              "        buttonEl.style.display =\n",
              "          google.colab.kernel.accessAllowed ? 'block' : 'none';\n",
              "\n",
              "        async function convertToInteractive(key) {\n",
              "          const element = document.querySelector('#df-3593aee5-48f8-4a4e-ade3-84ab3de1449b');\n",
              "          const dataTable =\n",
              "            await google.colab.kernel.invokeFunction('convertToInteractive',\n",
              "                                                     [key], {});\n",
              "          if (!dataTable) return;\n",
              "\n",
              "          const docLinkHtml = 'Like what you see? Visit the ' +\n",
              "            '<a target=\"_blank\" href=https://colab.research.google.com/notebooks/data_table.ipynb>data table notebook</a>'\n",
              "            + ' to learn more about interactive tables.';\n",
              "          element.innerHTML = '';\n",
              "          dataTable['output_type'] = 'display_data';\n",
              "          await google.colab.output.renderOutput(dataTable, element);\n",
              "          const docLink = document.createElement('div');\n",
              "          docLink.innerHTML = docLinkHtml;\n",
              "          element.appendChild(docLink);\n",
              "        }\n",
              "      </script>\n",
              "    </div>\n",
              "  </div>\n",
              "  "
            ]
          },
          "metadata": {},
          "execution_count": 55
        }
      ]
    },
    {
      "cell_type": "markdown",
      "source": [
        "We now split the two colums into the feature (as there's only the text) and the lable."
      ],
      "metadata": {
        "id": "yZsy9-rZKd3-"
      }
    },
    {
      "cell_type": "code",
      "source": [
        "X = spam['text']\n",
        "y = spam['class']"
      ],
      "metadata": {
        "id": "d0gP-nyvKli9"
      },
      "execution_count": 56,
      "outputs": []
    },
    {
      "cell_type": "markdown",
      "source": [
        "Let's check this"
      ],
      "metadata": {
        "id": "xfL6fXZ7vTue"
      }
    },
    {
      "cell_type": "code",
      "source": [
        "X"
      ],
      "metadata": {
        "id": "_wwt77t7Kup3",
        "colab": {
          "base_uri": "https://localhost:8080/"
        },
        "outputId": "71a29f73-1fa0-4bc3-8978-75d9df18edb2"
      },
      "execution_count": 57,
      "outputs": [
        {
          "output_type": "execute_result",
          "data": {
            "text/plain": [
              "0       Go until jurong point. crazy.. Available only ...\n",
              "1                           Ok lar... Joking wif u oni...\n",
              "2       Free entry in 2 a wkly comp to win FA Cup fina...\n",
              "3       U dun say so early hor... U c already then say...\n",
              "4       Nah I don't think he goes to usf. he lives aro...\n",
              "                              ...                        \n",
              "5567    This is the 2nd time we have tried 2 contact u...\n",
              "5568                 Will _ b going to esplanade fr home?\n",
              "5569    Pity. * was in mood for that. So...any other s...\n",
              "5570    The guy did some bitching but I acted like i'd...\n",
              "5571                           Rofl. Its true to its name\n",
              "Name: text, Length: 5572, dtype: object"
            ]
          },
          "metadata": {},
          "execution_count": 57
        }
      ]
    },
    {
      "cell_type": "code",
      "source": [
        "y"
      ],
      "metadata": {
        "id": "WDfuk7KPKwpU",
        "colab": {
          "base_uri": "https://localhost:8080/"
        },
        "outputId": "4a367ded-e8c3-4a9e-c82d-03b659c9fb7a"
      },
      "execution_count": 58,
      "outputs": [
        {
          "output_type": "execute_result",
          "data": {
            "text/plain": [
              "0        ham\n",
              "1        ham\n",
              "2       spam\n",
              "3        ham\n",
              "4        ham\n",
              "        ... \n",
              "5567    spam\n",
              "5568     ham\n",
              "5569     ham\n",
              "5570     ham\n",
              "5571     ham\n",
              "Name: class, Length: 5572, dtype: object"
            ]
          },
          "metadata": {},
          "execution_count": 58
        }
      ]
    },
    {
      "cell_type": "markdown",
      "source": [
        "How many examples of spam and ham do we have?"
      ],
      "metadata": {
        "id": "YArRFtfIvrfg"
      }
    },
    {
      "cell_type": "code",
      "source": [
        "y.value_counts()"
      ],
      "metadata": {
        "id": "v7HwrPKCvzV4",
        "colab": {
          "base_uri": "https://localhost:8080/"
        },
        "outputId": "9bd11a3c-e022-4bab-9084-6dfba089dc6e"
      },
      "execution_count": 59,
      "outputs": [
        {
          "output_type": "execute_result",
          "data": {
            "text/plain": [
              "ham     4825\n",
              "spam     747\n",
              "Name: class, dtype: int64"
            ]
          },
          "metadata": {},
          "execution_count": 59
        }
      ]
    },
    {
      "cell_type": "markdown",
      "source": [
        "We now need to split the data into a training set and a test set. We shall keep 20% for testing."
      ],
      "metadata": {
        "id": "77-GbVrMvaOS"
      }
    },
    {
      "cell_type": "code",
      "source": [
        "X_train, X_test, y_train, y_test = train_test_split(X, y, test_size=0.20)"
      ],
      "metadata": {
        "id": "hmbPEtdGKyTH"
      },
      "execution_count": 66,
      "outputs": []
    },
    {
      "cell_type": "markdown",
      "source": [
        "The feature data needs to be converted into numeric values which can be used by the Naive Bayes classifier. We need to break it up into individual words and count how many times each of these words appear in each text message.\n",
        "\n",
        "SkLearn nicely provides a CountVectorizer tool for us. It takes in a list of documents (the text messages for us) and outputs a matrix with each row representing an original document and each column representing the count of how many words were in that doucment for a particular word. So for example if the original documents were:\n",
        "\n",
        "The cat sat on the mat\n",
        "The mat was on the floor\n",
        "\n",
        "Then the matrix returned could look like:\n",
        "\n",
        "    #| cat | floor | mat | on | sat | the |\n",
        "    +------+-------+-----+----+-----+-----+\n",
        "    1| 1   | 0     | 1   | 1  | 1   |  2  |\n",
        "    2| 0   | 1     | 1   | 1  | 0   |  2  |\n",
        "\n",
        "First we create a vectorizer and specify how we want to break up the words. Then we fit the vectorizer to our text data."
      ],
      "metadata": {
        "id": "UiaM-e-2LVPK"
      }
    },
    {
      "cell_type": "markdown",
      "source": [
        "Let's see what we have here. First let's output the words that it's found for the columns."
      ],
      "metadata": {
        "id": "iPRptOYIzA_l"
      }
    },
    {
      "cell_type": "markdown",
      "source": [
        "These don't look much like real words - but that's because it's putting things like '00' first. So let's get it to output more:"
      ],
      "metadata": {
        "id": "EYvgqHUVzLgh"
      }
    },
    {
      "cell_type": "markdown",
      "source": [
        "To start with most of the 'words' are phone numbers. You'll need to search a bit further through the data for some real words. \n",
        "\n",
        "##Exercise:\n",
        "Change the range of the output above till you find some real words."
      ],
      "metadata": {
        "id": "087wtXaP0eh-"
      }
    },
    {
      "cell_type": "markdown",
      "source": [
        "We're going to ignore the fact that this vectorisation contains a lot of numbers. Perhaps this will make identifying ham from spam easier. Now let's produce the rows for our matrix by transforming our training data into vectors."
      ],
      "metadata": {
        "id": "UX8bCMZW0wVa"
      }
    },
    {
      "cell_type": "code",
      "source": [
        "from sklearn.feature_extraction.text import TfidfVectorizer\n",
        "tfidf_vect = TfidfVectorizer()\n",
        "\n",
        "X_train_tfidf = tfidf_vect.fit_transform(X_train)\n",
        "X_test_tfidf = tfidf_vect.transform(X_test)\n",
        "X_train_tfidf.shape\n",
        "X_test_tfidf.shape"
      ],
      "metadata": {
        "colab": {
          "base_uri": "https://localhost:8080/"
        },
        "id": "ysakffX1Sx1A",
        "outputId": "aeea8660-5fe8-44cb-fdc8-b54c0dee3aab"
      },
      "execution_count": 91,
      "outputs": [
        {
          "output_type": "execute_result",
          "data": {
            "text/plain": [
              "(1115, 7734)"
            ]
          },
          "metadata": {},
          "execution_count": 91
        }
      ]
    },
    {
      "cell_type": "markdown",
      "source": [
        "We could, at this stage convert these counts into probabilites as we did in the lecture. However, the MultinomialNB can quite happily cope with the counts. So let's create out classifier and train it."
      ],
      "metadata": {
        "id": "5qZWAFjQ1PR_"
      }
    },
    {
      "cell_type": "code",
      "source": [
        "clf = MultinomialNB().fit(X_train_tfidf, y_train)"
      ],
      "metadata": {
        "id": "51q4bBDCpQEj"
      },
      "execution_count": 92,
      "outputs": []
    },
    {
      "cell_type": "markdown",
      "source": [
        "We now have our Naive Bayes classifier - we should test to see how good it is.\n",
        "\n",
        "## Exercise:\n",
        "Let's compute the accuracy on our test data. Remember, first we need to convert our X_test data into a vector format. We can do this the same as above. Then predict the labels and test the results."
      ],
      "metadata": {
        "id": "XcjWn8gy1iaP"
      }
    },
    {
      "cell_type": "code",
      "source": [
        "\n",
        "y_predict = clf.predict(X_test_tfidf)\n",
        "\n",
        "print('Accuracy(MultinomialNB) = ', clf.score(X_test_tfidf, y_test))\n"
      ],
      "metadata": {
        "id": "asOkgLDqMH_m",
        "colab": {
          "base_uri": "https://localhost:8080/"
        },
        "outputId": "0c93f733-618b-493d-f623-92f0c9e31e2d"
      },
      "execution_count": 96,
      "outputs": [
        {
          "output_type": "stream",
          "name": "stdout",
          "text": [
            "Accuracy(SVC) =  0.9596412556053812\n"
          ]
        }
      ]
    },
    {
      "cell_type": "code",
      "source": [
        "import numpy as np\n",
        "np.mean(y_predict == y_test)"
      ],
      "metadata": {
        "colab": {
          "base_uri": "https://localhost:8080/"
        },
        "id": "nEiIO_lYWLO8",
        "outputId": "169d77ef-6391-4554-9e6c-9a5c3c4d92e0"
      },
      "execution_count": 107,
      "outputs": [
        {
          "output_type": "execute_result",
          "data": {
            "text/plain": [
              "0.9596412556053812"
            ]
          },
          "metadata": {},
          "execution_count": 107
        }
      ]
    },
    {
      "cell_type": "markdown",
      "source": [
        "That's pretty good for a simple Naive Bayes classifier. We should look at some other statistics.\n",
        "\n",
        "# Exercise:\n",
        "Construct the confusion matrix for your test results. You've done this before in some other practicals.\n",
        "\n"
      ],
      "metadata": {
        "id": "wFE2TaNr2BaF"
      }
    },
    {
      "cell_type": "code",
      "source": [
        "from sklearn.metrics import confusion_matrix, ConfusionMatrixDisplay\n",
        "import matplotlib.pyplot as plt\n",
        "\n",
        "cm = confusion_matrix(y_test, y_predict)\n",
        "print(cm)\n",
        "\n",
        "# The Confusion matrix as text isn't easy to read - so let's make into a figure\n",
        "display = ConfusionMatrixDisplay(confusion_matrix=cm, display_labels=clf.classes_)\n",
        "display.plot()\n",
        "plt.show()"
      ],
      "metadata": {
        "id": "zzlI2IJnMNXQ",
        "colab": {
          "base_uri": "https://localhost:8080/",
          "height": 314
        },
        "outputId": "df112c0a-ce41-42db-8472-eb8df3c77f85"
      },
      "execution_count": 109,
      "outputs": [
        {
          "output_type": "stream",
          "name": "stdout",
          "text": [
            "[[942   0]\n",
            " [ 45 128]]\n"
          ]
        },
        {
          "output_type": "display_data",
          "data": {
            "text/plain": [
              "<Figure size 432x288 with 2 Axes>"
            ],
            "image/png": "[encoded data removed]"
          },
          "metadata": {
            "needs_background": "light"
          }
        }
      ]
    },
    {
      "cell_type": "markdown",
      "source": [
        "## Extension Exercises:\n",
        "In the documentation for CountVectorizer (https://scikit-learn.org/stable/modules/generated/sklearn.feature_extraction.text.CountVectorizer.html#sklearn.feature_extraction.text.CountVectorizer.get_feature_names_out) there's a number of manipulations you can apply to the data as you vectorize (such as removing stop words - common words like a, the, it, converting all text to lowercase - so Cat and cat are the same, stripping accents or changing the token pattern). See how these affect the performance of the classifier."
      ],
      "metadata": {
        "id": "Gd3Giu-f4mN_"
      }
    }
  ]
}