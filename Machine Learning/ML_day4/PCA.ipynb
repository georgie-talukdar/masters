{
 "cells": [
  {
   "cell_type": "code",
   "execution_count": 1,
   "metadata": {},
   "outputs": [
    {
     "name": "stdout",
     "output_type": "stream",
     "text": [
      "[ 4.13860769 10.41419801]\n"
     ]
    }
   ],
   "source": [
    "import numpy as np\n",
    "from sklearn import datasets\n",
    "\n",
    "\n",
    "def _generating_data():\n",
    "    random_state = 180\n",
    "    X, _ = datasets.make_blobs(n_samples=50, n_features = 2, \n",
    "                               centers=3, cluster_std=[3, 2, 3], \n",
    "                               random_state=random_state)\n",
    "    transformation = [[1.6, -0.6], [-0.8, 0.8]]\n",
    "    X_aniso = np.dot(X, transformation)\n",
    "    X_aniso[:,0] = X_aniso[:,0]-7\n",
    "    X_aniso[:,1] = X_aniso[:,1]+17\n",
    "    return X_aniso\n",
    "\n",
    "\n",
    "X = _generating_data()\n",
    "X_mean = np.mean(X, axis=0)\n",
    "print(X_mean)\n"
   ]
  },
  {
   "cell_type": "code",
   "execution_count": 2,
   "metadata": {},
   "outputs": [],
   "source": [
    "X_centred = X - X_mean\n",
    "X_cov = np.matmul(X_centred.T,X_centred)/(np.shape(X)[0]-1) # the demominator could be N or (N-1)\n",
    "#print('conv can also be calculated using numpy function')\n",
    "#X_cov = np.cov(X_centred.T)"
   ]
  },
  {
   "cell_type": "code",
   "execution_count": 3,
   "metadata": {},
   "outputs": [],
   "source": [
    "eig_vals, eig_vecs = np.linalg.eig(X_cov)"
   ]
  },
  {
   "cell_type": "code",
   "execution_count": 4,
   "metadata": {},
   "outputs": [
    {
     "name": "stdout",
     "output_type": "stream",
     "text": [
      "eig_vals:\n",
      "[34.88600313  4.11169671]\n",
      "eig_vectors:\n",
      "[[ 0.92312589  0.38449785]\n",
      " [-0.38449785  0.92312589]]\n"
     ]
    }
   ],
   "source": [
    "print('eig_vals:')\n",
    "print(eig_vals)\n",
    "print('eig_vectors:')\n",
    "print(eig_vecs)"
   ]
  },
  {
   "cell_type": "code",
   "execution_count": null,
   "metadata": {},
   "outputs": [],
   "source": []
  },
  {
   "cell_type": "code",
   "execution_count": 5,
   "metadata": {},
   "outputs": [],
   "source": [
    "X_pca = np.matmul(X_centred, eig_vecs)"
   ]
  },
  {
   "cell_type": "code",
   "execution_count": 6,
   "metadata": {},
   "outputs": [
    {
     "data": {
      "image/png": "[encoded data removed]",
      "text/plain": [
       "<Figure size 432x288 with 1 Axes>"
      ]
     },
     "metadata": {
      "needs_background": "light"
     },
     "output_type": "display_data"
    }
   ],
   "source": [
    "import matplotlib.pyplot as plt\n",
    "%matplotlib inline \n",
    "plt.plot(X[:,0],X[:,1], 'o')\n",
    "plt.plot(X_pca[:,0],X_pca[:,1], '^')\n",
    "\n",
    "plt.show()"
   ]
  },
  {
   "cell_type": "code",
   "execution_count": 7,
   "metadata": {},
   "outputs": [
    {
     "name": "stdout",
     "output_type": "stream",
     "text": [
      "Given a data point:\n",
      "[11  2]\n",
      "zero mean first\n",
      "PCA projection:\n",
      "[ 9.56916991 -5.12917339]\n"
     ]
    }
   ],
   "source": [
    "print('Given a data point:')\n",
    "a0 = np.array([11, 2])\n",
    "print(a0)\n",
    "a =  a0 - X_mean\n",
    "print('zero mean first')\n",
    "projected_a = np.matmul(a, eig_vecs)\n",
    "print('PCA projection:')\n",
    "print(projected_a)"
   ]
  },
  {
   "cell_type": "code",
   "execution_count": null,
   "metadata": {},
   "outputs": [],
   "source": []
  },
  {
   "cell_type": "code",
   "execution_count": null,
   "metadata": {},
   "outputs": [],
   "source": []
  },
  {
   "cell_type": "code",
   "execution_count": null,
   "metadata": {},
   "outputs": [],
   "source": []
  },
  {
   "cell_type": "code",
   "execution_count": null,
   "metadata": {},
   "outputs": [],
   "source": []
  },
  {
   "cell_type": "code",
   "execution_count": null,
   "metadata": {},
   "outputs": [],
   "source": []
  },
  {
   "cell_type": "code",
   "execution_count": null,
   "metadata": {},
   "outputs": [],
   "source": []
  }
 ],
 "metadata": {
  "kernelspec": {
   "display_name": "Python 3",
   "language": "python",
   "name": "python3"
  },
  "language_info": {
   "codemirror_mode": {
    "name": "ipython",
    "version": 3
   },
   "file_extension": ".py",
   "mimetype": "text/x-python",
   "name": "python",
   "nbconvert_exporter": "python",
   "pygments_lexer": "ipython3",
   "version": "3.6.5"
  }
 },
 "nbformat": 4,
 "nbformat_minor": 2
}
