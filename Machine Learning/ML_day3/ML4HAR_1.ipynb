{
 "cells": [
  {
   "cell_type": "markdown",
   "metadata": {},
   "source": [
    "# The role of feature Engineering on HAR\n"
   ]
  },
  {
   "cell_type": "markdown",
   "metadata": {},
   "source": [
    "## 1. data preparation\n",
    "dataset can be downloaded at:\n",
    "https://www.dropbox.com/sh/1745pukanq6g94r/AAAy1zulrY25VZXh65sAWbZoa?dl=0\n",
    "\n",
    "\n",
    "if you use colab, you can upload the dataset via the script below:\n",
    "\n",
    "from google.colab import files\n",
    "\n",
    "files.upload()"
   ]
  },
  {
   "cell_type": "code",
   "execution_count": 1,
   "metadata": {},
   "outputs": [],
   "source": [
    "def warn(*args, **kwargs):\n",
    "    pass\n",
    "import warnings\n",
    "warnings.warn = warn\n",
    "\n",
    "import numpy as np\n",
    "import scipy.io\n",
    "\n",
    "\n",
    "data = scipy.io.loadmat('PAMAP2.mat')\n",
    "Xy_train0 = data['Xy_train']\n",
    "Xy_test0 = data['Xy_test']\n"
   ]
  },
  {
   "cell_type": "code",
   "execution_count": 2,
   "metadata": {},
   "outputs": [
    {
     "name": "stdout",
     "output_type": "stream",
     "text": [
      "optional: channel-wise normalisation\n"
     ]
    }
   ],
   "source": [
    "print('optional: channel-wise normalisation')\n",
    "mn = np.mean(Xy_train0[:,:-1], axis=0)\n",
    "std = np.std(Xy_train0[:,:-1], axis=0)\n",
    "Xy_train0[:,:-1] = (Xy_train0[:,:-1]-mn)/std\n",
    "Xy_test0[:,:-1] = (Xy_test0[:,:-1]-mn)/std"
   ]
  },
  {
   "cell_type": "code",
   "execution_count": 3,
   "metadata": {},
   "outputs": [
    {
     "name": "stdout",
     "output_type": "stream",
     "text": [
      "27\n"
     ]
    }
   ],
   "source": [
    "cNum=12\n",
    "win_len = 100\n",
    "dim = Xy_train0.shape[1]-1 #minus the label col\n",
    "print(dim)"
   ]
  },
  {
   "cell_type": "code",
   "execution_count": 4,
   "metadata": {},
   "outputs": [],
   "source": [
    "def sliding_window(Xy, percentage=0.5, win_len=100):\n",
    "    #print('per')\n",
    "    print('overlapping_percentage:  '+str(percentage*100)+'%')\n",
    "\n",
    "    batch_size0 = int(np.floor(len(Xy)/win_len))\n",
    "    #print(batch_size0)\n",
    "    Xy0 = Xy[:win_len*batch_size0,:]\n",
    "    if percentage==1:\n",
    "        print('100% overlapping means no overlapping')\n",
    "        return Xy0\n",
    "\n",
    "    K_fold = int(1/(1-percentage))\n",
    "    #print(K_fold)\n",
    "    offset = int(np.round(win_len * (1-percentage)))\n",
    "    Xy_big = []\n",
    "    for k in range(K_fold):\n",
    "        #print(k)\n",
    "        current_set = Xy0[k*offset:len(Xy0)-(win_len-k*offset),:]\n",
    "        #print(len(current_set))\n",
    "        Xy_big.append(current_set)\n",
    "    return np.concatenate(Xy_big)\n",
    "\n",
    "def _to_frames(Xy, dim, win_len=100):\n",
    "    X3D = np.reshape(Xy[:,:-1], (-1, win_len, dim))\n",
    "    y2D = np.reshape(Xy[:,-1],(-1, win_len)).astype(int)\n",
    "    y = np.zeros(len(y2D))\n",
    "    for i in range(len(y2D)):\n",
    "        counts = np.bincount(np.reshape(y2D[i, :], (-1)))\n",
    "        y[i] = np.argmax(counts)\n",
    "    return X3D, y"
   ]
  },
  {
   "cell_type": "code",
   "execution_count": 5,
   "metadata": {},
   "outputs": [
    {
     "name": "stdout",
     "output_type": "stream",
     "text": [
      "original training data shape (473445, 28)\n",
      "overlapping_percentage:  50.0%\n",
      "after overlapping sliding window (946600, 28)\n",
      "converting to frames (100 samples per window) with size (9466, 100, 27)\n",
      "overlapping_percentage:  50.0%\n"
     ]
    }
   ],
   "source": [
    "print('original training data shape', Xy_train0.shape)\n",
    "Xy_train = sliding_window(Xy_train0, 0.5, win_len)\n",
    "print('after overlapping sliding window', Xy_train.shape)\n",
    "X_train0, y_train0 = _to_frames(Xy_train,dim, win_len)\n",
    "print('converting to frames (100 samples per window) with size', X_train0.shape)\n",
    "\n",
    "\n",
    "#print(Xy_test0.shape)\n",
    "Xy_test = sliding_window(Xy_test0, 0.5, win_len)\n",
    "#print(Xy_test.shape)\n",
    "X_test0, y_test0 = _to_frames(Xy_test,dim,win_len)"
   ]
  },
  {
   "cell_type": "markdown",
   "metadata": {},
   "source": [
    "### We use balanced data, where 'accuracy' is the right measure."
   ]
  },
  {
   "cell_type": "code",
   "execution_count": 6,
   "metadata": {},
   "outputs": [],
   "source": [
    "def building_balanced_DB(X, y, cNum, sample_number):\n",
    "    print('each class will have the same sample number')\n",
    "    X_new = np.empty([0, win_len, dim])\n",
    "    y_new = np.empty([0])\n",
    "    for i in range(cNum):\n",
    "        if len(X[y==i])<sample_number:\n",
    "            print('Error: not enough samples for class '+str(i) +'please choose a smaller number')\n",
    "            break\n",
    "        else:\n",
    "            X_new = np.concatenate((X_new, X[y==i][:sample_number]), axis=0)\n",
    "            #print(X_new.shape)\n",
    "        \n",
    "        y_new = np.concatenate((y_new, y[y==i][:sample_number]), axis=0)\n",
    "        #print(y_new)\n",
    "    return X_new, y_new\n",
    "    "
   ]
  },
  {
   "cell_type": "code",
   "execution_count": 7,
   "metadata": {},
   "outputs": [
    {
     "name": "stdout",
     "output_type": "stream",
     "text": [
      "now it is the balanced data\n",
      "each class will have the same sample number\n",
      "each class will have the same sample number\n"
     ]
    }
   ],
   "source": [
    "\n",
    "print('now it is the balanced data')\n",
    "size_per_class_train = 250\n",
    "size_per_class_test = 50\n",
    "X_train0, y_train0 = building_balanced_DB(X_train0, y_train0, cNum, size_per_class_train)\n",
    "X_test0, y_test0 = building_balanced_DB(X_test0, y_test0, cNum, size_per_class_test)\n",
    "\n",
    "   \n",
    "  \n",
    "    "
   ]
  },
  {
   "cell_type": "code",
   "execution_count": 8,
   "metadata": {},
   "outputs": [
    {
     "name": "stdout",
     "output_type": "stream",
     "text": [
      "----------train_Data---------------\n",
      "class 0, sample number 250, percentage 8.3%\n",
      "class 1, sample number 250, percentage 8.3%\n",
      "class 2, sample number 250, percentage 8.3%\n",
      "class 3, sample number 250, percentage 8.3%\n",
      "class 4, sample number 250, percentage 8.3%\n",
      "class 5, sample number 250, percentage 8.3%\n",
      "class 6, sample number 250, percentage 8.3%\n",
      "class 7, sample number 250, percentage 8.3%\n",
      "class 8, sample number 250, percentage 8.3%\n",
      "class 9, sample number 250, percentage 8.3%\n",
      "class 10, sample number 250, percentage 8.3%\n",
      "class 11, sample number 250, percentage 8.3%\n"
     ]
    },
    {
     "data": {
      "image/png": "[encoded data removed]",
      "text/plain": [
       "<Figure size 432x288 with 1 Axes>"
      ]
     },
     "metadata": {},
     "output_type": "display_data"
    },
    {
     "name": "stdout",
     "output_type": "stream",
     "text": [
      "----------testing_Data--------------\n",
      "class 0, sample number 50, percentage 8.3%\n",
      "class 1, sample number 50, percentage 8.3%\n",
      "class 2, sample number 50, percentage 8.3%\n",
      "class 3, sample number 50, percentage 8.3%\n",
      "class 4, sample number 50, percentage 8.3%\n",
      "class 5, sample number 50, percentage 8.3%\n",
      "class 6, sample number 50, percentage 8.3%\n",
      "class 7, sample number 50, percentage 8.3%\n",
      "class 8, sample number 50, percentage 8.3%\n",
      "class 9, sample number 50, percentage 8.3%\n",
      "class 10, sample number 50, percentage 8.3%\n",
      "class 11, sample number 50, percentage 8.3%\n"
     ]
    },
    {
     "data": {
      "image/png": "[encoded data removed]",
      "text/plain": [
       "<Figure size 432x288 with 1 Axes>"
      ]
     },
     "metadata": {},
     "output_type": "display_data"
    }
   ],
   "source": [
    "import matplotlib.pyplot as plt\n",
    "%matplotlib inline\n",
    "def drawing_pie_chart(percentages, labels, dataset_id):\n",
    "    plt.title(dataset_id)\n",
    "    color_set = ['yellowgreen', 'gold', 'lightskyblue', 'lightcoral',\n",
    "            '#eeeeee','#C44E52', 'green', '#B47CC7','#ffed6f','#777777','#C4AD66','red', \n",
    "                  'blue',  'cyan', 'magenta',\n",
    "                '#FBC15E','#56B4E9','#4878CF','#FFFEA3' ]\n",
    "    \n",
    "    labels = labels.copy()\n",
    "    for i in range(len(percentages)):\n",
    "        labels[i] = labels[i]+'  ('+str(percentages[i])[:4]+'%)'\n",
    "    colors = color_set[:len(percentages)]\n",
    "    \n",
    "    \n",
    "    patches, texts = plt.pie(percentages, colors=colors, startangle=90)\n",
    "    \n",
    "    plt.axis('equal')\n",
    "    lgd = plt.legend(labels, loc=(0.9, 0.05), shadow=True, borderaxespad=10.)\n",
    "    \n",
    "    \n",
    "    #plt.savefig('dataset_'+dataset_id+'.eps', bbox_extra_artists=(lgd,), bbox_inches='tight', format='eps', dpi=600)\n",
    "    plt.show()\n",
    "    \n",
    "def calculating_percentages(y_, cNum):\n",
    "    percentages = np.zeros(cNum)\n",
    "    for i in range(cNum):\n",
    "        num = np.sum(y_==i)\n",
    "        percentages[i]=100.0*num/len(y_)\n",
    "        print('class {}, sample number {}, percentage {:.1f}%'.format(i, num, percentages[i]))\n",
    "    return percentages\n",
    "\n",
    "\n",
    "dataset_id = 'PAMAP2'\n",
    "labels_PAMAP2 = [r'rope jumping', \n",
    "                 r'lying', \n",
    "                 r'sitting', \n",
    "                 r'standing',\n",
    "                 r'walking', \n",
    "                 r'running', \n",
    "                 r'cycling', \n",
    "                 r'nordic walking',\n",
    "                 r'ascending stairs', \n",
    "                 r'descending stairs', \n",
    "                 r'vacuum cleaning', \n",
    "                 r'ironing']\n",
    "cNum = 12 # 12 classes for PAMAP2\n",
    "\n",
    "print('----------train_Data---------------')\n",
    "percentages_train = calculating_percentages(y_train0, cNum)\n",
    "drawing_pie_chart(percentages_train,labels_PAMAP2,dataset_id+'_train')\n",
    "\n",
    "print('----------testing_Data--------------')\n",
    "percentages_test = calculating_percentages(y_test0, cNum)\n",
    "drawing_pie_chart(percentages_test,labels_PAMAP2,dataset_id+'_test')"
   ]
  },
  {
   "cell_type": "markdown",
   "metadata": {},
   "source": [
    "## 2. HAR on Raw data\n",
    "### Now we directly perform classification on the raw data, and see what happens. First, we have to convert the data into vectors..."
   ]
  },
  {
   "cell_type": "code",
   "execution_count": 9,
   "metadata": {},
   "outputs": [
    {
     "name": "stdout",
     "output_type": "stream",
     "text": [
      "original dimension: (3000, 100, 27)\n",
      "reshaped dimension: (3000, 2700)\n"
     ]
    }
   ],
   "source": [
    "print('original dimension:', X_train0.shape)\n",
    "X_train = np.reshape(X_train0, (-1, dim*win_len))\n",
    "X_test = np.reshape(X_test0, (-1, dim*win_len))\n",
    "print('reshaped dimension:', X_train.shape)\n",
    "\n",
    "y_train = y_train0.copy()\n",
    "y_test = y_test0.copy()"
   ]
  },
  {
   "cell_type": "code",
   "execution_count": 11,
   "metadata": {},
   "outputs": [
    {
     "name": "stdout",
     "output_type": "stream",
     "text": [
      "training logistic_regression_classifier takes 10.37 seconds\n",
      "classification accuracy: 0.43\n",
      "random  guess  accuracy: 0.08\n"
     ]
    }
   ],
   "source": [
    "\n",
    "from sklearn.linear_model import LogisticRegression\n",
    "from sklearn.metrics import accuracy_score\n",
    "\n",
    "\n",
    "from time import time\n",
    "name = ' logistic_regression_classifier '\n",
    "default_C = 1\n",
    "\n",
    "t0 = time()\n",
    "clf = LogisticRegression(penalty='l2',solver = 'lbfgs', C = default_C)\n",
    "clf.fit(X_train, y_train)\n",
    "print('training'+name+'takes {:.2f} seconds'.format(time()-t0))\n",
    "\n",
    "\n",
    "y_pred = clf.predict(X_test)\n",
    "acc = accuracy_score(y_test, y_pred)\n",
    "print('classification accuracy: {:.2f}'.format(acc))\n",
    "print('random  guess  accuracy: {:.2f}'.format(1/cNum))\n"
   ]
  },
  {
   "cell_type": "markdown",
   "metadata": {},
   "source": [
    "### The accuracy (and training efficiency) is not great ---- we expect more than this, and what is the problem? Maybe we should normalise the features first? "
   ]
  },
  {
   "cell_type": "code",
   "execution_count": 12,
   "metadata": {},
   "outputs": [],
   "source": [
    "\n",
    "from sklearn.preprocessing import StandardScaler\n",
    "scaler = StandardScaler()\n",
    "\n",
    "scaler.fit(X_train)\n",
    "# Apply transform to both the training set and the test set.\n",
    "X_train = scaler.transform(X_train)\n",
    "X_test = scaler.transform(X_test)"
   ]
  },
  {
   "cell_type": "markdown",
   "metadata": {},
   "source": [
    "#### and try again..."
   ]
  },
  {
   "cell_type": "code",
   "execution_count": 13,
   "metadata": {},
   "outputs": [
    {
     "name": "stdout",
     "output_type": "stream",
     "text": [
      " logistic_regression_classifier (normalised) training takes 10.55 seconds\n",
      " logistic_regression_classifier (normalised) classification accuracy: 0.45\n"
     ]
    }
   ],
   "source": [
    "t0 = time()\n",
    "name = ' logistic_regression_classifier (normalised) '\n",
    "clf = LogisticRegression(penalty='l2',solver = 'lbfgs', C = default_C)\n",
    "\n",
    "\n",
    "\n",
    "clf.fit(X_train, y_train)\n",
    "print(name+'training takes {:.2f} seconds'.format(time()-t0))\n",
    "y_pred = clf.predict(X_test)\n",
    "acc = accuracy_score(y_test, y_pred)\n",
    "print(name+'classification accuracy: {:.2f}'.format(acc))\n"
   ]
  },
  {
   "cell_type": "markdown",
   "metadata": {},
   "source": [
    "#### improves a bit, but it is still bad. Let's try another classifier, SVM (linear)"
   ]
  },
  {
   "cell_type": "code",
   "execution_count": 14,
   "metadata": {},
   "outputs": [
    {
     "name": "stdout",
     "output_type": "stream",
     "text": [
      " linear_SVM training takes 13.34 seconds\n",
      " linear_SVM classification accuracy: 0.34\n"
     ]
    }
   ],
   "source": [
    "from sklearn.svm import SVC\n",
    "\n",
    "t0 = time()\n",
    "name = ' linear_SVM '\n",
    "\n",
    "\n",
    "\n",
    "clf = SVC(kernel=\"linear\", C=default_C)\n",
    "\n",
    "\n",
    "\n",
    "\n",
    "clf.fit(X_train, y_train)\n",
    "print(name+'training takes {:.2f} seconds'.format(time()-t0))\n",
    "y_pred = clf.predict(X_test)\n",
    "acc = accuracy_score(y_test, y_pred)\n",
    "print(name+'classification accuracy: {:.2f}'.format(acc))\n"
   ]
  },
  {
   "cell_type": "markdown",
   "metadata": {},
   "source": [
    "#### even worse!  maybe the raw data is not linearly separable? we will try non-linear SVM"
   ]
  },
  {
   "cell_type": "code",
   "execution_count": 15,
   "metadata": {},
   "outputs": [
    {
     "name": "stdout",
     "output_type": "stream",
     "text": [
      " rbf_SVM training takes 22.56 seconds\n",
      " rbf_SVM classification accuracy: 0.77\n"
     ]
    }
   ],
   "source": [
    "t0 = time()\n",
    "name = ' rbf_SVM '\n",
    "\n",
    "\n",
    "\n",
    "clf = SVC(kernel=\"rbf\", C=default_C)\n",
    "\n",
    "clf.fit(X_train, y_train)\n",
    "print(name+'training takes {:.2f} seconds'.format(time()-t0))\n",
    "y_pred = clf.predict(X_test)\n",
    "acc = accuracy_score(y_test, y_pred)\n",
    "print(name+'classification accuracy: {:.2f}'.format(acc))\n",
    "\n"
   ]
  },
  {
   "cell_type": "markdown",
   "metadata": {},
   "source": [
    "#### Now we see the problem, the raw data is not linearly separable indeed! Now let's use some non-linear classifiers instead!"
   ]
  },
  {
   "cell_type": "code",
   "execution_count": 16,
   "metadata": {},
   "outputs": [
    {
     "name": "stdout",
     "output_type": "stream",
     "text": [
      " Decision Tree training takes 7.37 seconds\n",
      " Decision Tree classification accuracy: 0.27\n"
     ]
    }
   ],
   "source": [
    "from sklearn.tree import DecisionTreeClassifier\n",
    "t0 = time()\n",
    "name = ' Decision Tree '\n",
    "\n",
    "\n",
    "clf = DecisionTreeClassifier()\n",
    "\n",
    "\n",
    "\n",
    "clf.fit(X_train, y_train)\n",
    "print(name+'training takes {:.2f} seconds'.format(time()-t0))\n",
    "y_pred = clf.predict(X_test)\n",
    "acc = accuracy_score(y_test, y_pred)\n",
    "print(name+'classification accuracy: {:.2f}'.format(acc))\n",
    "\n"
   ]
  },
  {
   "cell_type": "markdown",
   "metadata": {},
   "source": [
    "#### It was not great, we all know ensemble of decision trees ---- random forest is more powerful, let's try"
   ]
  },
  {
   "cell_type": "code",
   "execution_count": 17,
   "metadata": {},
   "outputs": [
    {
     "name": "stdout",
     "output_type": "stream",
     "text": [
      " Random forest training takes 8.07 seconds\n",
      " Random forest classification accuracy: 0.34\n"
     ]
    }
   ],
   "source": [
    "from sklearn.ensemble import RandomForestClassifier\n",
    "t0 = time()\n",
    "name = ' Random forest '\n",
    "\n",
    "\n",
    "\n",
    "clf = RandomForestClassifier(n_estimators=100)\n",
    "\n",
    "\n",
    "\n",
    "clf.fit(X_train, y_train)\n",
    "print(name+'training takes {:.2f} seconds'.format(time()-t0))\n",
    "y_pred = clf.predict(X_test)\n",
    "acc = accuracy_score(y_test, y_pred)\n",
    "print(name+'classification accuracy: {:.2f}'.format(acc))\n",
    "\n"
   ]
  },
  {
   "cell_type": "markdown",
   "metadata": {},
   "source": [
    "#### Structured data is more suitable for decison trees/random forest, maybe we shouldn't directly use these classifiers on raw data "
   ]
  },
  {
   "cell_type": "code",
   "execution_count": 18,
   "metadata": {},
   "outputs": [
    {
     "name": "stdout",
     "output_type": "stream",
     "text": [
      " KNN classification accuracy: 0.48\n",
      " KNN  takes 7.07 seconds\n"
     ]
    }
   ],
   "source": [
    "from sklearn.neighbors import KNeighborsClassifier\n",
    "t0 = time()\n",
    "name = ' KNN '\n",
    "\n",
    "clf = KNeighborsClassifier(5)\n",
    "\n",
    "\n",
    "\n",
    "clf.fit(X_train, y_train)\n",
    "y_pred = clf.predict(X_test)\n",
    "acc = accuracy_score(y_test, y_pred)\n",
    "print(name+'classification accuracy: {:.2f}'.format(acc))\n",
    "print(name+' takes {:.2f} seconds'.format(time()-t0))\n",
    "\n",
    "\n"
   ]
  },
  {
   "cell_type": "markdown",
   "metadata": {},
   "source": [
    "#### Low dimensional data is more suitable for KNN"
   ]
  },
  {
   "cell_type": "markdown",
   "metadata": {},
   "source": [
    "### Short summary: non-linear classifier (SVM-rbf) seems work on the raw data, yet decision tree/random forest/knn either required structured data or low dimensional data.  "
   ]
  },
  {
   "cell_type": "markdown",
   "metadata": {},
   "source": [
    "### Maybe we shouldn't work on the raw data. Next we will do feature engineering to get features that can be \n",
    "#### 1) linearly separable . \n",
    "#### 2) low dimensional and structured \n",
    "### so all the above classifiers can be used. "
   ]
  },
  {
   "cell_type": "markdown",
   "metadata": {},
   "source": [
    "## 3. HAR on feature engineered data\n",
    "#### performing feature engineering"
   ]
  },
  {
   "cell_type": "code",
   "execution_count": 19,
   "metadata": {},
   "outputs": [
    {
     "name": "stdout",
     "output_type": "stream",
     "text": [
      "new feature dimension: 297\n"
     ]
    }
   ],
   "source": [
    "from scipy.stats import kurtosis, skew, iqr, median_absolute_deviation \n",
    "def _FE(X):\n",
    "    X_mean = np.mean(X, axis=1)\n",
    "    X_std = np.std(X, axis=1)\n",
    "    X_var = np.var(X, axis=1)\n",
    "    X_energy = np.sqrt(np.mean(np.power(X, 2), axis=1))\n",
    "    X_mad= np.mean(np.abs(X - np.expand_dims(X_mean, axis=1)), axis=1)\n",
    "    X_mad1 = median_absolute_deviation(X, axis=1)\n",
    "    X_kurtosis = kurtosis(X, axis = 1)\n",
    "    X_skew = skew(X, axis = 1)\n",
    "    X_iqr = iqr(X, axis = 1)\n",
    "    X_max = np.amax(X, axis=1)\n",
    "    X_min = np.amin(X, axis=1)\n",
    "    \n",
    "    return np.concatenate((X_mean \n",
    "                           ,X_std\n",
    "                           ,X_var\n",
    "                           ,X_energy\n",
    "                           ,X_mad\n",
    "                           ,X_mad1\n",
    "                           ,X_kurtosis\n",
    "                           ,X_skew\n",
    "                           ,X_iqr\n",
    "                           ,X_max\n",
    "                           ,X_min\n",
    "                          ), axis=1)\n",
    "\n",
    "\n",
    "\n",
    "#print('performing feature engineering')\n",
    "X_train = _FE(X_train0)\n",
    "X_test = _FE(X_test0)\n",
    "print('new feature dimension: '+str(X_train.shape[1]))\n",
    "y_train = y_train0.copy()\n",
    "y_test = y_test0.copy()\n",
    "\n",
    "\n"
   ]
  },
  {
   "cell_type": "code",
   "execution_count": 20,
   "metadata": {},
   "outputs": [
    {
     "name": "stdout",
     "output_type": "stream",
     "text": [
      "performing feature-wise normalisation!\n"
     ]
    }
   ],
   "source": [
    "print('performing feature-wise normalisation!')\n",
    "from sklearn.preprocessing import StandardScaler\n",
    "scaler = StandardScaler()\n",
    "\n",
    "scaler.fit(X_train)\n",
    "# Apply transform to both the training set and the test set.\n",
    "X_train = scaler.transform(X_train)\n",
    "X_test = scaler.transform(X_test)"
   ]
  },
  {
   "cell_type": "markdown",
   "metadata": {},
   "source": [
    "Let's try all the previous classifiers"
   ]
  },
  {
   "cell_type": "code",
   "execution_count": 21,
   "metadata": {},
   "outputs": [
    {
     "name": "stdout",
     "output_type": "stream",
     "text": [
      " _LR acc: 0.81, total_time: 0.78 sec\n",
      " SVM acc: 0.73, total_time: 0.84 sec\n",
      " RBF acc: 0.87, total_time: 1.58 sec\n",
      " _DT acc: 0.66, total_time: 0.65 sec\n",
      " _RF acc: 0.90, total_time: 2.52 sec\n",
      " KNN acc: 0.85, total_time: 0.83 sec\n"
     ]
    }
   ],
   "source": [
    "\n",
    "\n",
    "names = [\" _LR \", \" SVM \", ' RBF ', \" _DT \", \" _RF \", \" KNN \"]\n",
    "\n",
    "classifiers = [\n",
    "    \n",
    "    LogisticRegression(penalty='l2',solver = 'lbfgs', C = default_C),\n",
    "    SVC(kernel=\"linear\", C=default_C),\n",
    "    SVC(kernel=\"rbf\", C=default_C),\n",
    "    DecisionTreeClassifier(),\n",
    "    RandomForestClassifier(n_estimators=100),\n",
    "    KNeighborsClassifier(5)]\n",
    "\n",
    "for name, clf in zip(names, classifiers):\n",
    "    t0=time()\n",
    "    clf.fit(X_train, y_train)\n",
    "    y_pred = clf.predict(X_test)\n",
    "    acc = accuracy_score(y_test, y_pred)\n",
    "    print(name+'acc: {:.2f}, total_time: {:.2f} sec'.format(acc, time()-t0))\n",
    "    \n",
    "\n",
    "   \n",
    "\n"
   ]
  },
  {
   "cell_type": "code",
   "execution_count": null,
   "metadata": {},
   "outputs": [],
   "source": []
  },
  {
   "cell_type": "markdown",
   "metadata": {},
   "source": [
    "### We can see significant performance gain\n",
    "#### logistic regression ----  0.81 (engineered features)        vs    0.45 (raw)\n",
    "#### linear SVM -------------  0.73 (engineered features)        vs    0.34 (raw)\n",
    "#### rbf SVM-----------------  0.87 (engineered features)        vs    0.77 (raw)\n",
    "#### decision tree ----------   0.66 (engineered features)        vs    0.27(raw)\n",
    "#### random forest ---------  0.90 (engineered features)        vs     0.34 (raw)\n",
    "#### KNN --------------------  0.85 (engineered features)        vs     0.48 (raw)"
   ]
  },
  {
   "cell_type": "markdown",
   "metadata": {},
   "source": []
  },
  {
   "cell_type": "code",
   "execution_count": null,
   "metadata": {},
   "outputs": [],
   "source": []
  },
  {
   "cell_type": "code",
   "execution_count": null,
   "metadata": {},
   "outputs": [],
   "source": []
  },
  {
   "cell_type": "markdown",
   "metadata": {},
   "source": []
  },
  {
   "cell_type": "code",
   "execution_count": null,
   "metadata": {},
   "outputs": [],
   "source": []
  }
 ],
 "metadata": {
  "kernelspec": {
   "display_name": "Python 3",
   "language": "python",
   "name": "python3"
  },
  "language_info": {
   "codemirror_mode": {
    "name": "ipython",
    "version": 3
   },
   "file_extension": ".py",
   "mimetype": "text/x-python",
   "name": "python",
   "nbconvert_exporter": "python",
   "pygments_lexer": "ipython3",
   "version": "3.6.5"
  }
 },
 "nbformat": 4,
 "nbformat_minor": 2
}
